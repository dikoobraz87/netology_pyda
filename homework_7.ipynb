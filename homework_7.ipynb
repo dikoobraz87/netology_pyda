{
 "cells": [
  {
   "cell_type": "markdown",
   "metadata": {},
   "source": [
    "### Задание 1  \n",
    "Напишите функцию date_range, которая возвращает список дней между датами start_date и end_date. Даты должны вводиться в формате YYYY-MM-DD."
   ]
  },
  {
   "cell_type": "code",
   "execution_count": 1,
   "metadata": {},
   "outputs": [],
   "source": [
    "from datetime import datetime"
   ]
  },
  {
   "cell_type": "code",
   "execution_count": 2,
   "metadata": {},
   "outputs": [],
   "source": [
    "from datetime import timedelta"
   ]
  },
  {
   "cell_type": "code",
   "execution_count": 3,
   "metadata": {},
   "outputs": [],
   "source": [
    "def date_range():\n",
    "    start_date = input('Введите стартовую дату: ')\n",
    "    end_date = input('Введите конечную дату: ')\n",
    "    dt_start_date = datetime.strptime(start_date, '%Y-%m-%d')\n",
    "    dt_end_date = datetime.strptime(end_date, '%Y-%m-%d')\n",
    "    current_dt = dt_start_date\n",
    "    dt_list = [current_dt.strftime('%Y-%m-%d')]\n",
    "    while current_dt < dt_end_date:\n",
    "        current_dt += timedelta(days=1)\n",
    "        dt_list.append(current_dt.strftime('%Y-%m-%d'))\n",
    "    print(dt_list)"
   ]
  },
  {
   "cell_type": "code",
   "execution_count": 4,
   "metadata": {},
   "outputs": [
    {
     "name": "stdout",
     "output_type": "stream",
     "text": [
      "Введите стартовую дату: 2010-01-01\n",
      "Введите конечную дату: 2010-01-05\n",
      "['2010-01-01', '2010-01-02', '2010-01-03', '2010-01-04', '2010-01-05']\n"
     ]
    }
   ],
   "source": [
    "date_range()"
   ]
  },
  {
   "cell_type": "markdown",
   "metadata": {},
   "source": [
    "### Задание 2\n",
    "Дополните функцию из первого задания проверкой на корректность дат. В случае неверного формата или если start_date > end_date должен возвращаться пустой список."
   ]
  },
  {
   "cell_type": "code",
   "execution_count": 5,
   "metadata": {},
   "outputs": [],
   "source": [
    "def date_range1():\n",
    "    start_date = input('Введите стартовую дату: ')\n",
    "    end_date = input('Введите конечную дату: ')\n",
    "    try:\n",
    "        dt_start_date = datetime.strptime(start_date, '%Y-%m-%d')\n",
    "        dt_end_date = datetime.strptime(end_date, '%Y-%m-%d')\n",
    "        current_dt = dt_start_date\n",
    "        dt_list = [current_dt.strftime('%Y-%m-%d')]\n",
    "        if dt_start_date <= dt_end_date:\n",
    "            while current_dt < dt_end_date:\n",
    "                current_dt += timedelta(days=1)\n",
    "                dt_list.append(current_dt.strftime('%Y-%m-%d'))\n",
    "            print(dt_list)\n",
    "        else:\n",
    "            print([])\n",
    "    except:\n",
    "        print([])"
   ]
  },
  {
   "cell_type": "code",
   "execution_count": 6,
   "metadata": {},
   "outputs": [
    {
     "name": "stdout",
     "output_type": "stream",
     "text": [
      "Введите стартовую дату: 2018-19-02\n",
      "Введите конечную дату: 2018-19-06\n",
      "[]\n"
     ]
    }
   ],
   "source": [
    "date_range1()"
   ]
  },
  {
   "cell_type": "markdown",
   "metadata": {},
   "source": [
    "### Задание 3\n",
    "Дан поток дат в формате YYYY-MM-DD, в которых встречаются некорректные значения: stream = ['2018-04-02', '2018-02-29', '2018-19-02']\n",
    "\n",
    "Напишите функцию, которая проверяет эти даты на корректность. Т. е. для каждой даты возвращает True (дата корректна) или False (некорректная дата). "
   ]
  },
  {
   "cell_type": "code",
   "execution_count": 7,
   "metadata": {},
   "outputs": [],
   "source": [
    "stream_list = ['2018-04-02', '2018-02-29', '2018-19-02']"
   ]
  },
  {
   "cell_type": "code",
   "execution_count": 8,
   "metadata": {},
   "outputs": [],
   "source": [
    "def check_date(stream):\n",
    "    for date in stream:\n",
    "        try:\n",
    "            dt_date = datetime.strptime(date, '%Y-%m-%d')\n",
    "            print(True)\n",
    "        except:\n",
    "            print(False)"
   ]
  },
  {
   "cell_type": "code",
   "execution_count": 9,
   "metadata": {},
   "outputs": [
    {
     "name": "stdout",
     "output_type": "stream",
     "text": [
      "True\n",
      "False\n",
      "False\n"
     ]
    }
   ],
   "source": [
    "check_date(stream_list)"
   ]
  },
  {
   "cell_type": "markdown",
   "metadata": {},
   "source": [
    "### Задание 4 бонусное)\n",
    "Ваш коллега прислал код функции:\n",
    "\n",
    "DEFAULT_USER_COUNT = 3\n",
    "\n",
    "def delete_and_return_last_user(region, default_list=['A100', 'A101', 'A102']): \"\"\" Удаляет из списка default_list последнего пользователя и возвращает ID нового последнего пользователя. \"\"\" element_to_delete = default_list[-1] default_list.remove(element_to_delete)\n",
    "\n",
    "return default_list[DEFAULT_USER_COUNT-2]\n",
    "\n",
    "При однократном вызове этой функции все работает корректно: delete_and_return_last_user(1) 'A101'\n",
    "\n",
    "Однако, при повторном вызове получается ошибка IndexError: list index out of range.\n",
    "\n",
    "Задание:\n",
    "\n",
    "    Что значит ошибка list index out of range?\n",
    "    Почему при первом запуске функция работает корректно, а при втором - нет?\n"
   ]
  },
  {
   "cell_type": "markdown",
   "metadata": {},
   "source": [
    "Ошибка list index out of range означает что мы обращаемся по несуществующему индексу. \n",
    "\n",
    "При втором запуске элемент \"default_list[DEFAULT_USER_COUNT-2]\" удаляется, поэтому функция не может вернуть элемент, который уже не существует, при первом запуске он ещё существовал... по сути после второго запуска в списке остается только элемент \"default_list[DEFAULT_USER_COUNT-3]\""
   ]
  }
 ],
 "metadata": {
  "kernelspec": {
   "display_name": "Python 3",
   "language": "python",
   "name": "python3"
  },
  "language_info": {
   "codemirror_mode": {
    "name": "ipython",
    "version": 3
   },
   "file_extension": ".py",
   "mimetype": "text/x-python",
   "name": "python",
   "nbconvert_exporter": "python",
   "pygments_lexer": "ipython3",
   "version": "3.7.4"
  }
 },
 "nbformat": 4,
 "nbformat_minor": 2
}
