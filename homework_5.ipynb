{
 "cells": [
  {
   "cell_type": "markdown",
   "metadata": {},
   "source": [
    "# Домашнее задание\n",
    "1. Переведите содержимое файла purchase_log.txt в словарь purchases вида:\n",
    "```python\n",
    "{'1840e0b9d4': 'Продукты', ...}\n",
    "```\n",
    "\n",
    "2. Для каждого user_id в файле visit_log.csv добавьте третий столбец с категорией покупки (если покупка была).\n",
    "\n",
    "3. Запишите в файл funnel.csv визиты из файла visit_log.csv, в которых были покупки с указанием категории.\n",
    "\n",
    "Учтите условия на данные:\n",
    "- содержимое purchase_log.txt помещается в оперативную память компьютера\n",
    "- содержимое visit_log.csv - нет; используйте только построчную обработку этого файла"
   ]
  },
  {
   "cell_type": "code",
   "execution_count": 1,
   "metadata": {},
   "outputs": [],
   "source": [
    "import json"
   ]
  },
  {
   "cell_type": "code",
   "execution_count": 2,
   "metadata": {},
   "outputs": [],
   "source": [
    "purchases = {}\n",
    "with open('purchase_log.txt', encoding='utf-8') as f:\n",
    "    next(f)\n",
    "    for line in f:\n",
    "        line = line.strip()\n",
    "        dict_f = json.loads(line)\n",
    "        if dict_f['user_id'] not in purchases.keys():\n",
    "            purchases[dict_f['user_id']] = dict_f['category']\n",
    "        else:\n",
    "            purchases[dict_f['user_id']] += '+'\n",
    "            purchases[dict_f['user_id']] += dict_f['category']"
   ]
  },
  {
   "cell_type": "code",
   "execution_count": 3,
   "metadata": {},
   "outputs": [],
   "source": [
    "with open('visit_log.csv') as f_1:\n",
    "    with open('funnel.csv', 'w') as f_2:\n",
    "        for lines in f_1:\n",
    "            lines_list = lines.strip().split(',')\n",
    "            if lines_list[0] in purchases.keys():\n",
    "                lines_list += [purchases[lines_list[0]]]\n",
    "                new_lines = (',').join(lines_list)\n",
    "                f_2.write(new_lines)\n",
    "                f_2.write('\\n')"
   ]
  },
  {
   "cell_type": "markdown",
   "metadata": {},
   "source": [
    "### Другой вариант (не знаю как оптимальней)"
   ]
  },
  {
   "cell_type": "code",
   "execution_count": 4,
   "metadata": {},
   "outputs": [],
   "source": [
    "import json"
   ]
  },
  {
   "cell_type": "code",
   "execution_count": 5,
   "metadata": {},
   "outputs": [],
   "source": [
    "purchases = {}\n",
    "with open('purchase_log.txt', encoding='utf-8') as f:\n",
    "    next(f)\n",
    "    for line in f:\n",
    "        line = line.strip()\n",
    "        dict_f = json.loads(line)\n",
    "        purchases.setdefault(dict_f['user_id'], [])\n",
    "        purchases[dict_f['user_id']].append(dict_f['category'])"
   ]
  },
  {
   "cell_type": "code",
   "execution_count": 6,
   "metadata": {},
   "outputs": [],
   "source": [
    "with open('visit_log.csv') as f_1:\n",
    "    with open('funnel_v2.csv', 'w') as f_2:\n",
    "        for lines in f_1:\n",
    "            lines_list = lines.strip().split(',')\n",
    "            if lines_list[0] in purchases.keys():\n",
    "                x = (',').join(purchases[lines_list[0]])\n",
    "                lines_list.append(x.replace(',', '+'))\n",
    "                new_lines = (',').join(lines_list)\n",
    "                f_2.write(new_lines)\n",
    "                f_2.write('\\n')"
   ]
  }
 ],
 "metadata": {
  "kernelspec": {
   "display_name": "Python 3",
   "language": "python",
   "name": "python3"
  },
  "language_info": {
   "codemirror_mode": {
    "name": "ipython",
    "version": 3
   },
   "file_extension": ".py",
   "mimetype": "text/x-python",
   "name": "python",
   "nbconvert_exporter": "python",
   "pygments_lexer": "ipython3",
   "version": "3.7.4"
  }
 },
 "nbformat": 4,
 "nbformat_minor": 2
}
