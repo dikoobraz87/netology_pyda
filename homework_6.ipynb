{
 "cells": [
  {
   "cell_type": "markdown",
   "metadata": {},
   "source": [
    "# Домашнее задание к лекции \"Регулярные выражения\""
   ]
  },
  {
   "cell_type": "markdown",
   "metadata": {},
   "source": [
    "## Задание 1"
   ]
  },
  {
   "cell_type": "markdown",
   "metadata": {},
   "source": [
    "Напишите функцию, которая принимает на вход строку и проверяет является ли она валидным транспортным номером. Если да, то функция должна возвращать отдельно номер и регион."
   ]
  },
  {
   "cell_type": "code",
   "execution_count": 1,
   "metadata": {},
   "outputs": [],
   "source": [
    "import re"
   ]
  },
  {
   "cell_type": "code",
   "execution_count": 2,
   "metadata": {},
   "outputs": [],
   "source": [
    "def check_number(num):\n",
    "    regex_num = r'([авекмнорстух]{1}\\d{3}[авекмнорстух]{2})(\\d{2,3}$)'\n",
    "    re_num = r'[авекмнорстух]{1}\\d{3}[авекмнорстух]{2}'\n",
    "    re_region = r'(?<=[авекмнорстух]{1}\\d{3}[авекмнорстух]{2})[0-9]*'\n",
    "    if re.match(regex_num, num):\n",
    "        number = re.search(re_num, num)\n",
    "        region = re.search(re_region, num)\n",
    "        print(f'Номер: {number.group()} Регион: {region.group()}')\n",
    "    else:\n",
    "        print('Неправильный номер')  "
   ]
  },
  {
   "cell_type": "code",
   "execution_count": 3,
   "metadata": {},
   "outputs": [
    {
     "name": "stdout",
     "output_type": "stream",
     "text": [
      "Введите гос. номер: н777ск54\n",
      "Номер: н777ск Регион: 54\n"
     ]
    }
   ],
   "source": [
    "check_number(input('Введите гос. номер: '))"
   ]
  },
  {
   "cell_type": "markdown",
   "metadata": {},
   "source": [
    "## Задание 2"
   ]
  },
  {
   "cell_type": "markdown",
   "metadata": {},
   "source": [
    "Напишите функцию, которая проверяет e-mail адрес на валидность по стандарту RFC822: http://www.w3.org/Protocols/rfc822/. Для этого постарайтесь написать (в крайнем случае найти) самый полный шаблон для проверки e-mail адресов через регулярное выражение. Разберитесь и напишите примеры, какие ваш шаблон может не охватить."
   ]
  },
  {
   "cell_type": "code",
   "execution_count": 4,
   "metadata": {},
   "outputs": [],
   "source": [
    "def check_email(email):\n",
    "    regex_email = r'[a-zA-Z0-9_\\-\\.+^!#$%&*+/=?\\`|{}~\\']+@[a-zA-zа-яА-я0-9_\\-]+.([a-zA-z]+|[а-яА-Я]+)(\\.[a-zA-z]+|[а-яА-Я]+)$'\n",
    "    if re.match(regex_email, email):\n",
    "        print('The email {} is a valid email'.format(email))\n",
    "    else:\n",
    "        print('The email {} is invalid'.format(email))   "
   ]
  },
  {
   "cell_type": "code",
   "execution_count": 5,
   "metadata": {},
   "outputs": [
    {
     "name": "stdout",
     "output_type": "stream",
     "text": [
      "Введите email: hello@netology.ru.com\n",
      "The email hello@netology.ru.com is a valid email\n"
     ]
    }
   ],
   "source": [
    "check_email(input('Введите email: '))"
   ]
  },
  {
   "cell_type": "markdown",
   "metadata": {},
   "source": [
    "Мне слишком сложно изучить такой объем информации на английском(переводил бы до конца курса эти стандарты) =))), поэтому исходил из правил что удалось нагуглить...\n",
    "Мой пример не охватывает плюс-адреса, комментарии и другие непонятные штуки. Не учитывает длинну для юзера, домена и доменной зоны так как я не знаю максимальных пределов поэтому просто \"+\". Не учитывает существует ли та или иная доменная зона. И не предусматривает такие варианты сочетаний как: домен = кирилица доменная зона = латиница итп... такие варианты пройдут хотя наверное так нельзя.\n",
    "Надеюсь в таком формате достаточно =))"
   ]
  },
  {
   "cell_type": "markdown",
   "metadata": {},
   "source": [
    "## Задание 3\n",
    "Напишите функцию, которая будет удалять все последовательные повторы слов из заданной строки."
   ]
  },
  {
   "cell_type": "code",
   "execution_count": 6,
   "metadata": {},
   "outputs": [],
   "source": [
    "text = 'Напишите функцию функцию, которая будет удалять все последовательные повторы повторы слов слов из заданной строки строки.'"
   ]
  },
  {
   "cell_type": "code",
   "execution_count": 7,
   "metadata": {},
   "outputs": [
    {
     "data": {
      "text/plain": [
       "'Напишите функцию, которая будет удалять все последовательные повторы слов из заданной строки.'"
      ]
     },
     "execution_count": 7,
     "metadata": {},
     "output_type": "execute_result"
    }
   ],
   "source": [
    "x = re.sub(r'(\\w+)\\s(\\1)?\\s?', r'\\1 ', text)\n",
    "re.sub(r'\\s?(,|\\.|!|\\?)', r'\\1', x)"
   ]
  },
  {
   "cell_type": "markdown",
   "metadata": {},
   "source": [
    "## Задание 4\n",
    "Напишите функцию, которая будет проверять номер сотового телефона на валидность, если он валиден, то переводить его в формат:   \n",
    "+7(xxx)-xxx-xx-xx  \n",
    "Постарайтесь предусмотреть как можно больше адекватных форматов изначального ввода номера.\n",
    "Примеры правильных и неправильных форматов:\n",
    "- +7 955 555-55-55;\n",
    "- 955555555;  (тут одной цифры не хватает)\n",
    "- 8(955)555-55-55;\n",
    "- +7 955 555 55 55;\n",
    "- 7(955) 555-55-55;\n",
    "- +7 955+555+55+55."
   ]
  },
  {
   "cell_type": "code",
   "execution_count": 8,
   "metadata": {},
   "outputs": [],
   "source": [
    "def check_number(phone_number):\n",
    "    regex_number = r'([+]?[78]?\\s?[-+]?[(]?)(\\d{3})([)]?[-+]?\\s?)(\\d{3})(\\s?[-+]?)(\\d{2})([-+]?\\s?)(\\d{2})$'\n",
    "    if re.match(regex_number, phone_number):\n",
    "        correct_number = re.sub(regex_number, r'+7(\\2)-\\4-\\6-\\8', phone_number)\n",
    "        print(correct_number)\n",
    "    else:\n",
    "        print('Неправильно набран номер')"
   ]
  },
  {
   "cell_type": "code",
   "execution_count": 9,
   "metadata": {},
   "outputs": [
    {
     "name": "stdout",
     "output_type": "stream",
     "text": [
      "Введите номер телефона: +8-(913 777-44+ 55\n",
      "+7(913)-777-44-55\n"
     ]
    }
   ],
   "source": [
    "check_number(input('Введите номер телефона: '))"
   ]
  }
 ],
 "metadata": {
  "kernelspec": {
   "display_name": "Python 3",
   "language": "python",
   "name": "python3"
  },
  "language_info": {
   "codemirror_mode": {
    "name": "ipython",
    "version": 3
   },
   "file_extension": ".py",
   "mimetype": "text/x-python",
   "name": "python",
   "nbconvert_exporter": "python",
   "pygments_lexer": "ipython3",
   "version": "3.7.4"
  }
 },
 "nbformat": 4,
 "nbformat_minor": 2
}
