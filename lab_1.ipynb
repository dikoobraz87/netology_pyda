{
 "cells": [
  {
   "cell_type": "markdown",
   "metadata": {},
   "source": [
    "## Задание 1"
   ]
  },
  {
   "cell_type": "code",
   "execution_count": 21,
   "metadata": {},
   "outputs": [],
   "source": [
    "string_01 = \"Mama, just killed a man, put a gun against his head, pulled my trigger, now he's dead. Mama, life had just begun, but now I've gone and thrown it all away. Mama, ooh (any way the wind blows), didn't mean to make you cry. If I'm not back again this time tomorrow carry on, carry on as if nothing really matters.\" "
   ]
  },
  {
   "cell_type": "code",
   "execution_count": 22,
   "metadata": {},
   "outputs": [],
   "source": [
    "import re"
   ]
  },
  {
   "cell_type": "code",
   "execution_count": 23,
   "metadata": {},
   "outputs": [
    {
     "name": "stdout",
     "output_type": "stream",
     "text": [
      "Количество символов в строке(без учета пробелов): 250\n"
     ]
    }
   ],
   "source": [
    "new_string = re.sub(' ', '', string_01)\n",
    "print(f'Количество символов в строке(без учета пробелов): {len(new_string)}')"
   ]
  },
  {
   "cell_type": "code",
   "execution_count": 24,
   "metadata": {},
   "outputs": [
    {
     "data": {
      "text/plain": [
       "250"
      ]
     },
     "execution_count": 24,
     "metadata": {},
     "output_type": "execute_result"
    }
   ],
   "source": [
    "# другой вариант\n",
    "string_l = string_01.split(' ')\n",
    "len(('').join(string_l))"
   ]
  },
  {
   "cell_type": "code",
   "execution_count": 25,
   "metadata": {},
   "outputs": [
    {
     "name": "stdout",
     "output_type": "stream",
     "text": [
      "Количество слов: 61\n"
     ]
    }
   ],
   "source": [
    "string_list = string_01.split()\n",
    "print(f'Количество слов: {len(string_list)}')"
   ]
  },
  {
   "cell_type": "code",
   "execution_count": 26,
   "metadata": {},
   "outputs": [],
   "source": [
    "def get_word_last(letter):\n",
    "    regex_s = r'[\\'a-zA-Zа-яА-Я]+'\n",
    "    string_l = re.findall(regex_s, string_01)\n",
    "    for word in string_l:\n",
    "        if word[-1] == letter:\n",
    "            print(word)"
   ]
  },
  {
   "cell_type": "code",
   "execution_count": 28,
   "metadata": {},
   "outputs": [
    {
     "name": "stdout",
     "output_type": "stream",
     "text": [
      "Введите букву: s\n",
      "his\n",
      "he's\n",
      "blows\n",
      "this\n",
      "as\n",
      "matters\n"
     ]
    }
   ],
   "source": [
    "get_word_last(input('Введите букву: '))"
   ]
  },
  {
   "cell_type": "code",
   "execution_count": 29,
   "metadata": {},
   "outputs": [],
   "source": [
    "def get_word_first(letter):\n",
    "    regex_s = r'[\\'a-zA-Zа-яА-Я]+'\n",
    "    string_l = re.findall(regex_s, string_01)\n",
    "    for word in string_l:\n",
    "        if word[0] == letter:\n",
    "            print(word)"
   ]
  },
  {
   "cell_type": "code",
   "execution_count": 30,
   "metadata": {},
   "outputs": [
    {
     "name": "stdout",
     "output_type": "stream",
     "text": [
      "Введите букву: m\n",
      "man\n",
      "my\n",
      "mean\n",
      "make\n",
      "matters\n"
     ]
    }
   ],
   "source": [
    "get_word_first(input('Введите букву: '))"
   ]
  },
  {
   "cell_type": "markdown",
   "metadata": {},
   "source": [
    "## Задание 2"
   ]
  },
  {
   "cell_type": "markdown",
   "metadata": {},
   "source": [
    "Я немного отстаю по лекциям так что видимо до этого ещё не дошел... \n",
    "видимо нужно использовать какойто модуль для генерации рандомных чисел с которым я ещё не знаком"
   ]
  },
  {
   "cell_type": "markdown",
   "metadata": {},
   "source": [
    "## Задание 3"
   ]
  },
  {
   "cell_type": "code",
   "execution_count": 31,
   "metadata": {},
   "outputs": [],
   "source": [
    "list_01 = [1, 1, 2, 3, 5, 8, 13, 21, 34, 55, 89, 144, 233, 377, 610]"
   ]
  },
  {
   "cell_type": "code",
   "execution_count": 32,
   "metadata": {},
   "outputs": [
    {
     "name": "stdout",
     "output_type": "stream",
     "text": [
      "212\n"
     ]
    }
   ],
   "source": [
    "list_02 = []\n",
    "for num in list_01:\n",
    "    if 100 > num > 10:\n",
    "        list_02 += [num]\n",
    "print(f'{sum(list_02)}')"
   ]
  },
  {
   "cell_type": "markdown",
   "metadata": {},
   "source": [
    "## Задание 4"
   ]
  },
  {
   "cell_type": "code",
   "execution_count": 33,
   "metadata": {},
   "outputs": [],
   "source": [
    "students = [\n",
    "    [\"0001\", \"Антонов\", \"Антон\", \"Игоревич\", \"20.08.2009\", \"БСТ161\"],\n",
    "    [\"1102\", \"Богов\", \"Артем\", \"Игоревич\", \"25.01.2010\", \"БСТ162\"],\n",
    "    [\"0333\", \"Глаголева\", \"Анастасия\", \"Николаевна\", \"11.07.2009\", \"БСТ163\"],\n",
    "    [\"4004\", \"Степанова\", \"Наталья\", \"Александровна\", \"13.02.2008\", \"БСТ161\"],\n",
    "    [\"0045\", \"Боков\", \"Игорь\", \"Харитонович\", \"02.06.2009\", \"БСТ161\"],\n",
    "    [\"0096\", \"Васильков\", \"Валентин\", \"Сергеевич\", \"20.03.2009\", \"БСТ164\"],\n",
    "    [\"0607\", \"Сиропова\", \"Виолетта\", \"Эдуардовна\", \"28.05.2010\", \"БСТ162\"],\n",
    "    [\"0309\", \"Шафутинский\", \"Михаил\", \"Михайлович\", \"03.09.2007\", \"БСТ163\"]\n",
    "]"
   ]
  },
  {
   "cell_type": "code",
   "execution_count": 34,
   "metadata": {},
   "outputs": [
    {
     "data": {
      "text/plain": [
       "{'0001': ['Антонов', 'Антон', 'Игоревич', '20.08.2009', 'БСТ161'],\n",
       " '1102': ['Богов', 'Артем', 'Игоревич', '25.01.2010', 'БСТ162'],\n",
       " '0333': ['Глаголева', 'Анастасия', 'Николаевна', '11.07.2009', 'БСТ163'],\n",
       " '4004': ['Степанова', 'Наталья', 'Александровна', '13.02.2008', 'БСТ161'],\n",
       " '0045': ['Боков', 'Игорь', 'Харитонович', '02.06.2009', 'БСТ161'],\n",
       " '0096': ['Васильков', 'Валентин', 'Сергеевич', '20.03.2009', 'БСТ164'],\n",
       " '0607': ['Сиропова', 'Виолетта', 'Эдуардовна', '28.05.2010', 'БСТ162'],\n",
       " '0309': ['Шафутинский', 'Михаил', 'Михайлович', '03.09.2007', 'БСТ163']}"
      ]
     },
     "execution_count": 34,
     "metadata": {},
     "output_type": "execute_result"
    }
   ],
   "source": [
    "student_dict = {}\n",
    "for student in students:\n",
    "    student_dict[student[0]] = student[1:]\n",
    "student_dict"
   ]
  },
  {
   "cell_type": "code",
   "execution_count": 35,
   "metadata": {},
   "outputs": [],
   "source": [
    "def change_group():\n",
    "    student_num = input('Введите номер студента: ')  \n",
    "    new_group = input('Введите новый номер группы: ')\n",
    "    for student in students:\n",
    "        if student_num == student[0]:\n",
    "            student[5] = new_group\n",
    "    return students"
   ]
  },
  {
   "cell_type": "code",
   "execution_count": 36,
   "metadata": {},
   "outputs": [
    {
     "name": "stdout",
     "output_type": "stream",
     "text": [
      "Введите номер студента: 0001\n",
      "Введите новый номер группы: XXXXXXX\n"
     ]
    },
    {
     "data": {
      "text/plain": [
       "[['0001', 'Антонов', 'Антон', 'Игоревич', '20.08.2009', 'XXXXXXX'],\n",
       " ['1102', 'Богов', 'Артем', 'Игоревич', '25.01.2010', 'БСТ162'],\n",
       " ['0333', 'Глаголева', 'Анастасия', 'Николаевна', '11.07.2009', 'БСТ163'],\n",
       " ['4004', 'Степанова', 'Наталья', 'Александровна', '13.02.2008', 'БСТ161'],\n",
       " ['0045', 'Боков', 'Игорь', 'Харитонович', '02.06.2009', 'БСТ161'],\n",
       " ['0096', 'Васильков', 'Валентин', 'Сергеевич', '20.03.2009', 'БСТ164'],\n",
       " ['0607', 'Сиропова', 'Виолетта', 'Эдуардовна', '28.05.2010', 'БСТ162'],\n",
       " ['0309', 'Шафутинский', 'Михаил', 'Михайлович', '03.09.2007', 'БСТ163']]"
      ]
     },
     "execution_count": 36,
     "metadata": {},
     "output_type": "execute_result"
    }
   ],
   "source": [
    "change_group()"
   ]
  },
  {
   "cell_type": "code",
   "execution_count": 37,
   "metadata": {},
   "outputs": [],
   "source": [
    "def find_student(group_num):\n",
    "    group_list = []\n",
    "    for student in students:\n",
    "        if group_num == student[-1]:\n",
    "            name = (' ').join(student[1:4])\n",
    "            group_list.append(name)\n",
    "    x = {}\n",
    "    x[group_num] = group_list\n",
    "    print(x)"
   ]
  },
  {
   "cell_type": "code",
   "execution_count": 38,
   "metadata": {},
   "outputs": [
    {
     "name": "stdout",
     "output_type": "stream",
     "text": [
      "Введите номер группы: БСТ163\n",
      "{'БСТ163': ['Глаголева Анастасия Николаевна', 'Шафутинский Михаил Михайлович']}\n"
     ]
    }
   ],
   "source": [
    "find_student(input('Введите номер группы: '))"
   ]
  },
  {
   "cell_type": "markdown",
   "metadata": {},
   "source": [
    "## Задание 5"
   ]
  },
  {
   "cell_type": "code",
   "execution_count": 39,
   "metadata": {},
   "outputs": [],
   "source": [
    "matrix = [ [0, 1, 2, 4, 8],\n",
    "          [6, 2, 2, 1, 9],\n",
    "          [3, 3, 3, 3, 3],\n",
    "          [4, 6, 7, 1, 2],\n",
    "          [5, 7, 3, 4, 0] \n",
    "         ] "
   ]
  },
  {
   "cell_type": "code",
   "execution_count": 40,
   "metadata": {},
   "outputs": [
    {
     "name": "stdout",
     "output_type": "stream",
     "text": [
      "Сумма всех элементов: 89\n"
     ]
    }
   ],
   "source": [
    "sum_element = []\n",
    "for m_list in matrix:\n",
    "    sum_element += [sum(m_list)]\n",
    "print('Сумма всех элементов:', sum(sum_element))"
   ]
  },
  {
   "cell_type": "code",
   "execution_count": 41,
   "metadata": {},
   "outputs": [
    {
     "name": "stdout",
     "output_type": "stream",
     "text": [
      "Максимальная сумма элементов столбца: 22\n"
     ]
    }
   ],
   "source": [
    "sum_list = []\n",
    "matrix1 = []\n",
    "matrix2 = []\n",
    "matrix3 = []\n",
    "matrix4 = []\n",
    "matrix5 = []\n",
    "for matrix_list in matrix:\n",
    "    matrix1 += [matrix_list[0]]\n",
    "    matrix2 += [matrix_list[1]]  \n",
    "    matrix3 += [matrix_list[2]]\n",
    "    matrix4 += [matrix_list[3]]  \n",
    "    matrix5 += [matrix_list[4]]  \n",
    "sum_list = sum(matrix1), sum(matrix2), sum(matrix3), sum(matrix4), sum(matrix5)\n",
    "print('Максимальная сумма элементов столбца:', max(sum_list))"
   ]
  }
 ],
 "metadata": {
  "kernelspec": {
   "display_name": "Python 3",
   "language": "python",
   "name": "python3"
  },
  "language_info": {
   "codemirror_mode": {
    "name": "ipython",
    "version": 3
   },
   "file_extension": ".py",
   "mimetype": "text/x-python",
   "name": "python",
   "nbconvert_exporter": "python",
   "pygments_lexer": "ipython3",
   "version": "3.7.4"
  }
 },
 "nbformat": 4,
 "nbformat_minor": 2
}
