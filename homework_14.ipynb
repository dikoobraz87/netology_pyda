{
 "cells": [
  {
   "cell_type": "markdown",
   "metadata": {},
   "source": [
    "### Что делать\n",
    "Построить 5 графиков по выбранным данным. \n",
    "Графики должны быть различных видов и использовать хотя бы 2 из рассмотренных на занятии библиотек. \n",
    "Для каждого описать, какого типа переменные участвуют в визуализации, какова её цель (например, посмотреть на корреляцию двух величин или на распределение значений) и почему выбрали именно такой тип графика.\n",
    " \n",
    "Откуда брать данные\n",
    "\n",
    "Можно взять свой датасет или воспользоваться одним из приведенных ниже:\n",
    "\n",
    "Данные IMDB; https://www.kaggle.com/tmdb/tmdb-movie-metadata\n",
    "\n",
    "Данные NYC;https://www.kaggle.com/c/nyc-taxi-trip-duration\n",
    "\n",
    "Данные NBA. https://www.kaggle.com/drgilermo/nba-players-stats\n"
   ]
  },
  {
   "cell_type": "code",
   "execution_count": 1,
   "metadata": {},
   "outputs": [],
   "source": [
    "import pandas as pd"
   ]
  },
  {
   "cell_type": "code",
   "execution_count": 2,
   "metadata": {},
   "outputs": [],
   "source": [
    "import matplotlib.pyplot as plt"
   ]
  },
  {
   "cell_type": "code",
   "execution_count": 3,
   "metadata": {},
   "outputs": [],
   "source": [
    "import seaborn as sns"
   ]
  },
  {
   "cell_type": "code",
   "execution_count": 4,
   "metadata": {},
   "outputs": [],
   "source": [
    "from pylab import rcParams\n",
    "rcParams['figure.figsize'] = 10,10"
   ]
  },
  {
   "cell_type": "code",
   "execution_count": 5,
   "metadata": {},
   "outputs": [],
   "source": [
    "khl = pd.read_csv('khl.csv')\n",
    "khl_players = pd.read_csv('khl_players.csv')"
   ]
  },
  {
   "cell_type": "code",
   "execution_count": 6,
   "metadata": {},
   "outputs": [
    {
     "data": {
      "text/html": [
       "<div>\n",
       "<style scoped>\n",
       "    .dataframe tbody tr th:only-of-type {\n",
       "        vertical-align: middle;\n",
       "    }\n",
       "\n",
       "    .dataframe tbody tr th {\n",
       "        vertical-align: top;\n",
       "    }\n",
       "\n",
       "    .dataframe thead th {\n",
       "        text-align: right;\n",
       "    }\n",
       "</style>\n",
       "<table border=\"1\" class=\"dataframe\">\n",
       "  <thead>\n",
       "    <tr style=\"text-align: right;\">\n",
       "      <th></th>\n",
       "      <th>DATE</th>\n",
       "      <th>DAY</th>\n",
       "      <th>MONTH</th>\n",
       "      <th>YEAR</th>\n",
       "      <th>SEASON</th>\n",
       "      <th>HOMETEAM</th>\n",
       "      <th>AWAYTEAM</th>\n",
       "      <th>WINNER</th>\n",
       "      <th>HG</th>\n",
       "      <th>AG</th>\n",
       "      <th>...</th>\n",
       "      <th>HGOT</th>\n",
       "      <th>AGOT</th>\n",
       "      <th>HGSO</th>\n",
       "      <th>AGSO</th>\n",
       "      <th>TOTALOT</th>\n",
       "      <th>TOTALMAIN</th>\n",
       "      <th>TOTALFULL</th>\n",
       "      <th>TOTALHMAIN</th>\n",
       "      <th>TOTALAWAYMAIN</th>\n",
       "      <th>GAP3PERIODS</th>\n",
       "    </tr>\n",
       "  </thead>\n",
       "  <tbody>\n",
       "    <tr>\n",
       "      <td>0</td>\n",
       "      <td>12/9/2019</td>\n",
       "      <td>9</td>\n",
       "      <td>12</td>\n",
       "      <td>2019</td>\n",
       "      <td>1920</td>\n",
       "      <td>Avangard Omsk</td>\n",
       "      <td>Barys Nur-Sultan</td>\n",
       "      <td>Barys Nur-Sultan</td>\n",
       "      <td>2</td>\n",
       "      <td>3</td>\n",
       "      <td>...</td>\n",
       "      <td>NaN</td>\n",
       "      <td>NaN</td>\n",
       "      <td>NaN</td>\n",
       "      <td>NaN</td>\n",
       "      <td>NaN</td>\n",
       "      <td>5</td>\n",
       "      <td>5</td>\n",
       "      <td>2</td>\n",
       "      <td>3</td>\n",
       "      <td>1</td>\n",
       "    </tr>\n",
       "    <tr>\n",
       "      <td>1</td>\n",
       "      <td>12/9/2019</td>\n",
       "      <td>9</td>\n",
       "      <td>12</td>\n",
       "      <td>2019</td>\n",
       "      <td>1920</td>\n",
       "      <td>Dyn. Moscow</td>\n",
       "      <td>SKA St. Petersburg</td>\n",
       "      <td>SKA St. Petersburg</td>\n",
       "      <td>2</td>\n",
       "      <td>3</td>\n",
       "      <td>...</td>\n",
       "      <td>0.0</td>\n",
       "      <td>1.0</td>\n",
       "      <td>NaN</td>\n",
       "      <td>NaN</td>\n",
       "      <td>1.0</td>\n",
       "      <td>4</td>\n",
       "      <td>5</td>\n",
       "      <td>2</td>\n",
       "      <td>2</td>\n",
       "      <td>0</td>\n",
       "    </tr>\n",
       "    <tr>\n",
       "      <td>2</td>\n",
       "      <td>12/9/2019</td>\n",
       "      <td>9</td>\n",
       "      <td>12</td>\n",
       "      <td>2019</td>\n",
       "      <td>1920</td>\n",
       "      <td>Jokerit</td>\n",
       "      <td>Sp. Moscow</td>\n",
       "      <td>Jokerit</td>\n",
       "      <td>3</td>\n",
       "      <td>2</td>\n",
       "      <td>...</td>\n",
       "      <td>NaN</td>\n",
       "      <td>NaN</td>\n",
       "      <td>NaN</td>\n",
       "      <td>NaN</td>\n",
       "      <td>NaN</td>\n",
       "      <td>5</td>\n",
       "      <td>5</td>\n",
       "      <td>3</td>\n",
       "      <td>2</td>\n",
       "      <td>1</td>\n",
       "    </tr>\n",
       "    <tr>\n",
       "      <td>3</td>\n",
       "      <td>12/9/2019</td>\n",
       "      <td>9</td>\n",
       "      <td>12</td>\n",
       "      <td>2019</td>\n",
       "      <td>1920</td>\n",
       "      <td>Podolsk</td>\n",
       "      <td>Nizhny Novgorod</td>\n",
       "      <td>Podolsk</td>\n",
       "      <td>3</td>\n",
       "      <td>2</td>\n",
       "      <td>...</td>\n",
       "      <td>NaN</td>\n",
       "      <td>NaN</td>\n",
       "      <td>NaN</td>\n",
       "      <td>NaN</td>\n",
       "      <td>NaN</td>\n",
       "      <td>5</td>\n",
       "      <td>5</td>\n",
       "      <td>3</td>\n",
       "      <td>2</td>\n",
       "      <td>1</td>\n",
       "    </tr>\n",
       "    <tr>\n",
       "      <td>4</td>\n",
       "      <td>12/9/2019</td>\n",
       "      <td>9</td>\n",
       "      <td>12</td>\n",
       "      <td>2019</td>\n",
       "      <td>1920</td>\n",
       "      <td>Metallurg Magnitogorsk</td>\n",
       "      <td>Dinamo Riga</td>\n",
       "      <td>Metallurg Magnitogorsk</td>\n",
       "      <td>5</td>\n",
       "      <td>1</td>\n",
       "      <td>...</td>\n",
       "      <td>NaN</td>\n",
       "      <td>NaN</td>\n",
       "      <td>NaN</td>\n",
       "      <td>NaN</td>\n",
       "      <td>NaN</td>\n",
       "      <td>6</td>\n",
       "      <td>6</td>\n",
       "      <td>5</td>\n",
       "      <td>1</td>\n",
       "      <td>4</td>\n",
       "    </tr>\n",
       "  </tbody>\n",
       "</table>\n",
       "<p>5 rows × 30 columns</p>\n",
       "</div>"
      ],
      "text/plain": [
       "        DATE  DAY  MONTH  YEAR  SEASON                HOMETEAM  \\\n",
       "0  12/9/2019    9     12  2019    1920           Avangard Omsk   \n",
       "1  12/9/2019    9     12  2019    1920             Dyn. Moscow   \n",
       "2  12/9/2019    9     12  2019    1920                 Jokerit   \n",
       "3  12/9/2019    9     12  2019    1920                 Podolsk   \n",
       "4  12/9/2019    9     12  2019    1920  Metallurg Magnitogorsk   \n",
       "\n",
       "             AWAYTEAM                  WINNER  HG  AG  ... HGOT  AGOT  HGSO  \\\n",
       "0    Barys Nur-Sultan        Barys Nur-Sultan   2   3  ...  NaN   NaN   NaN   \n",
       "1  SKA St. Petersburg      SKA St. Petersburg   2   3  ...  0.0   1.0   NaN   \n",
       "2          Sp. Moscow                 Jokerit   3   2  ...  NaN   NaN   NaN   \n",
       "3     Nizhny Novgorod                 Podolsk   3   2  ...  NaN   NaN   NaN   \n",
       "4         Dinamo Riga  Metallurg Magnitogorsk   5   1  ...  NaN   NaN   NaN   \n",
       "\n",
       "   AGSO  TOTALOT  TOTALMAIN  TOTALFULL  TOTALHMAIN  TOTALAWAYMAIN  GAP3PERIODS  \n",
       "0   NaN      NaN          5          5           2              3            1  \n",
       "1   NaN      1.0          4          5           2              2            0  \n",
       "2   NaN      NaN          5          5           3              2            1  \n",
       "3   NaN      NaN          5          5           3              2            1  \n",
       "4   NaN      NaN          6          6           5              1            4  \n",
       "\n",
       "[5 rows x 30 columns]"
      ]
     },
     "execution_count": 6,
     "metadata": {},
     "output_type": "execute_result"
    }
   ],
   "source": [
    "khl.head()"
   ]
  },
  {
   "cell_type": "code",
   "execution_count": 7,
   "metadata": {},
   "outputs": [
    {
     "name": "stdout",
     "output_type": "stream",
     "text": [
      "['DATE', 'DAY', 'MONTH', 'YEAR', 'SEASON', 'HOMETEAM', 'AWAYTEAM', 'WINNER', 'HG', 'AG', 'ADD', 'HG1', 'AG1', 'TOTAL1', 'HG2', 'AG2', 'TOTAL2', 'HG3', 'AG3', 'TOTAL3', 'HGOT', 'AGOT', 'HGSO', 'AGSO', 'TOTALOT', 'TOTALMAIN', 'TOTALFULL', 'TOTALHMAIN', 'TOTALAWAYMAIN', 'GAP3PERIODS']\n"
     ]
    }
   ],
   "source": [
    "print(khl.columns.to_list())"
   ]
  },
  {
   "cell_type": "markdown",
   "metadata": {},
   "source": [
    "## 1 График"
   ]
  },
  {
   "cell_type": "code",
   "execution_count": 8,
   "metadata": {},
   "outputs": [],
   "source": [
    "khl_1 = khl.groupby('SEASON').sum().reset_index()"
   ]
  },
  {
   "cell_type": "code",
   "execution_count": 9,
   "metadata": {},
   "outputs": [
    {
     "data": {
      "text/html": [
       "<div>\n",
       "<style scoped>\n",
       "    .dataframe tbody tr th:only-of-type {\n",
       "        vertical-align: middle;\n",
       "    }\n",
       "\n",
       "    .dataframe tbody tr th {\n",
       "        vertical-align: top;\n",
       "    }\n",
       "\n",
       "    .dataframe thead th {\n",
       "        text-align: right;\n",
       "    }\n",
       "</style>\n",
       "<table border=\"1\" class=\"dataframe\">\n",
       "  <thead>\n",
       "    <tr style=\"text-align: right;\">\n",
       "      <th></th>\n",
       "      <th>SEASON</th>\n",
       "      <th>TOTALFULL</th>\n",
       "    </tr>\n",
       "  </thead>\n",
       "  <tbody>\n",
       "    <tr>\n",
       "      <td>0</td>\n",
       "      <td>809</td>\n",
       "      <td>3803</td>\n",
       "    </tr>\n",
       "    <tr>\n",
       "      <td>1</td>\n",
       "      <td>910</td>\n",
       "      <td>3872</td>\n",
       "    </tr>\n",
       "    <tr>\n",
       "      <td>2</td>\n",
       "      <td>1011</td>\n",
       "      <td>3756</td>\n",
       "    </tr>\n",
       "    <tr>\n",
       "      <td>3</td>\n",
       "      <td>1112</td>\n",
       "      <td>3526</td>\n",
       "    </tr>\n",
       "    <tr>\n",
       "      <td>4</td>\n",
       "      <td>1213</td>\n",
       "      <td>4022</td>\n",
       "    </tr>\n",
       "  </tbody>\n",
       "</table>\n",
       "</div>"
      ],
      "text/plain": [
       "   SEASON  TOTALFULL\n",
       "0     809       3803\n",
       "1     910       3872\n",
       "2    1011       3756\n",
       "3    1112       3526\n",
       "4    1213       4022"
      ]
     },
     "execution_count": 9,
     "metadata": {},
     "output_type": "execute_result"
    }
   ],
   "source": [
    "khl_1_sort = khl_1[['SEASON', 'TOTALFULL']]\n",
    "khl_1_sort.head()"
   ]
  },
  {
   "cell_type": "code",
   "execution_count": 10,
   "metadata": {},
   "outputs": [
    {
     "data": {
      "text/html": [
       "<div>\n",
       "<style scoped>\n",
       "    .dataframe tbody tr th:only-of-type {\n",
       "        vertical-align: middle;\n",
       "    }\n",
       "\n",
       "    .dataframe tbody tr th {\n",
       "        vertical-align: top;\n",
       "    }\n",
       "\n",
       "    .dataframe thead th {\n",
       "        text-align: right;\n",
       "    }\n",
       "</style>\n",
       "<table border=\"1\" class=\"dataframe\">\n",
       "  <thead>\n",
       "    <tr style=\"text-align: right;\">\n",
       "      <th></th>\n",
       "      <th>SEASON</th>\n",
       "      <th>TOTALFULL</th>\n",
       "    </tr>\n",
       "  </thead>\n",
       "  <tbody>\n",
       "    <tr>\n",
       "      <td>0</td>\n",
       "      <td>809</td>\n",
       "      <td>3803</td>\n",
       "    </tr>\n",
       "    <tr>\n",
       "      <td>1</td>\n",
       "      <td>910</td>\n",
       "      <td>3872</td>\n",
       "    </tr>\n",
       "    <tr>\n",
       "      <td>2</td>\n",
       "      <td>1011</td>\n",
       "      <td>3756</td>\n",
       "    </tr>\n",
       "    <tr>\n",
       "      <td>3</td>\n",
       "      <td>1112</td>\n",
       "      <td>3526</td>\n",
       "    </tr>\n",
       "    <tr>\n",
       "      <td>4</td>\n",
       "      <td>1213</td>\n",
       "      <td>4022</td>\n",
       "    </tr>\n",
       "  </tbody>\n",
       "</table>\n",
       "</div>"
      ],
      "text/plain": [
       "  SEASON  TOTALFULL\n",
       "0    809       3803\n",
       "1    910       3872\n",
       "2   1011       3756\n",
       "3   1112       3526\n",
       "4   1213       4022"
      ]
     },
     "execution_count": 10,
     "metadata": {},
     "output_type": "execute_result"
    }
   ],
   "source": [
    "khl_1_sort = khl_1_sort.astype({'SEASON':'str'})\n",
    "khl_1_sort.head()"
   ]
  },
  {
   "cell_type": "code",
   "execution_count": 11,
   "metadata": {},
   "outputs": [
    {
     "data": {
      "image/png": "[encoded data removed]",
      "text/plain": [
       "<Figure size 720x720 with 1 Axes>"
      ]
     },
     "metadata": {
      "needs_background": "light"
     },
     "output_type": "display_data"
    }
   ],
   "source": [
    "plt.barh(khl_1_sort['SEASON'], khl_1_sort['TOTALFULL'])\n",
    "plt.xlabel('Number of goals')\n",
    "plt.ylabel('Seasons')\n",
    "plt.title('Change the level of entertainment games')\n",
    "plt.grid()"
   ]
  },
  {
   "cell_type": "markdown",
   "metadata": {},
   "source": [
    "График отображает общее количество забитых голов в континентальной хоккейной лиге по сезонам.\n",
    "По графику можно отследить динамику зрелищности сезонов."
   ]
  },
  {
   "cell_type": "markdown",
   "metadata": {},
   "source": [
    "## 2 График"
   ]
  },
  {
   "cell_type": "code",
   "execution_count": 12,
   "metadata": {},
   "outputs": [
    {
     "data": {
      "text/html": [
       "<div>\n",
       "<style scoped>\n",
       "    .dataframe tbody tr th:only-of-type {\n",
       "        vertical-align: middle;\n",
       "    }\n",
       "\n",
       "    .dataframe tbody tr th {\n",
       "        vertical-align: top;\n",
       "    }\n",
       "\n",
       "    .dataframe thead th {\n",
       "        text-align: right;\n",
       "    }\n",
       "</style>\n",
       "<table border=\"1\" class=\"dataframe\">\n",
       "  <thead>\n",
       "    <tr style=\"text-align: right;\">\n",
       "      <th></th>\n",
       "      <th>Unnamed: 0</th>\n",
       "      <th>player</th>\n",
       "      <th>team</th>\n",
       "      <th>games</th>\n",
       "      <th>goals</th>\n",
       "      <th>assists</th>\n",
       "      <th>points</th>\n",
       "      <th>pl_min</th>\n",
       "      <th>shoots</th>\n",
       "      <th>per_shoots</th>\n",
       "      <th>penalty_time</th>\n",
       "      <th>avr_time_on_ice</th>\n",
       "      <th>position</th>\n",
       "    </tr>\n",
       "  </thead>\n",
       "  <tbody>\n",
       "    <tr>\n",
       "      <td>0</td>\n",
       "      <td>0</td>\n",
       "      <td>Аалтонен Миро</td>\n",
       "      <td>ВИТ</td>\n",
       "      <td>61</td>\n",
       "      <td>19</td>\n",
       "      <td>23</td>\n",
       "      <td>42</td>\n",
       "      <td>9</td>\n",
       "      <td>165</td>\n",
       "      <td>11.5</td>\n",
       "      <td>20</td>\n",
       "      <td>17:39</td>\n",
       "      <td>F</td>\n",
       "    </tr>\n",
       "    <tr>\n",
       "      <td>1</td>\n",
       "      <td>1</td>\n",
       "      <td>Аверин Егор</td>\n",
       "      <td>ЛОК</td>\n",
       "      <td>57</td>\n",
       "      <td>13</td>\n",
       "      <td>14</td>\n",
       "      <td>27</td>\n",
       "      <td>15</td>\n",
       "      <td>102</td>\n",
       "      <td>12.7</td>\n",
       "      <td>10</td>\n",
       "      <td>16:18</td>\n",
       "      <td>F</td>\n",
       "    </tr>\n",
       "    <tr>\n",
       "      <td>2</td>\n",
       "      <td>2</td>\n",
       "      <td>Авцин Александр</td>\n",
       "      <td>НХК</td>\n",
       "      <td>20</td>\n",
       "      <td>1</td>\n",
       "      <td>2</td>\n",
       "      <td>3</td>\n",
       "      <td>1</td>\n",
       "      <td>24</td>\n",
       "      <td>4.2</td>\n",
       "      <td>8</td>\n",
       "      <td>11:18</td>\n",
       "      <td>F</td>\n",
       "    </tr>\n",
       "    <tr>\n",
       "      <td>3</td>\n",
       "      <td>3</td>\n",
       "      <td>Азеведо Джастин</td>\n",
       "      <td>АКБ</td>\n",
       "      <td>62</td>\n",
       "      <td>13</td>\n",
       "      <td>24</td>\n",
       "      <td>37</td>\n",
       "      <td>26</td>\n",
       "      <td>195</td>\n",
       "      <td>6.7</td>\n",
       "      <td>42</td>\n",
       "      <td>16:49</td>\n",
       "      <td>F</td>\n",
       "    </tr>\n",
       "    <tr>\n",
       "      <td>4</td>\n",
       "      <td>4</td>\n",
       "      <td>Акмальдинов Александр</td>\n",
       "      <td>СОЧ</td>\n",
       "      <td>30</td>\n",
       "      <td>1</td>\n",
       "      <td>6</td>\n",
       "      <td>7</td>\n",
       "      <td>-3</td>\n",
       "      <td>24</td>\n",
       "      <td>4.2</td>\n",
       "      <td>11</td>\n",
       "      <td>08:30</td>\n",
       "      <td>F</td>\n",
       "    </tr>\n",
       "  </tbody>\n",
       "</table>\n",
       "</div>"
      ],
      "text/plain": [
       "   Unnamed: 0                 player team  games  goals  assists  points  \\\n",
       "0           0          Аалтонен Миро  ВИТ     61     19       23      42   \n",
       "1           1            Аверин Егор  ЛОК     57     13       14      27   \n",
       "2           2        Авцин Александр  НХК     20      1        2       3   \n",
       "3           3        Азеведо Джастин  АКБ     62     13       24      37   \n",
       "4           4  Акмальдинов Александр  СОЧ     30      1        6       7   \n",
       "\n",
       "   pl_min  shoots  per_shoots  penalty_time avr_time_on_ice position  \n",
       "0       9     165        11.5            20           17:39        F  \n",
       "1      15     102        12.7            10           16:18        F  \n",
       "2       1      24         4.2             8           11:18        F  \n",
       "3      26     195         6.7            42           16:49        F  \n",
       "4      -3      24         4.2            11           08:30        F  "
      ]
     },
     "execution_count": 12,
     "metadata": {},
     "output_type": "execute_result"
    }
   ],
   "source": [
    "khl_players.head()"
   ]
  },
  {
   "cell_type": "code",
   "execution_count": 13,
   "metadata": {},
   "outputs": [],
   "source": [
    "khl_2 = khl_players.groupby('position').sum().filter(items = ['position', 'shoots', 'goals'])"
   ]
  },
  {
   "cell_type": "code",
   "execution_count": 14,
   "metadata": {},
   "outputs": [
    {
     "data": {
      "text/html": [
       "<div>\n",
       "<style scoped>\n",
       "    .dataframe tbody tr th:only-of-type {\n",
       "        vertical-align: middle;\n",
       "    }\n",
       "\n",
       "    .dataframe tbody tr th {\n",
       "        vertical-align: top;\n",
       "    }\n",
       "\n",
       "    .dataframe thead th {\n",
       "        text-align: right;\n",
       "    }\n",
       "</style>\n",
       "<table border=\"1\" class=\"dataframe\">\n",
       "  <thead>\n",
       "    <tr style=\"text-align: right;\">\n",
       "      <th></th>\n",
       "      <th>shoots</th>\n",
       "      <th>goals</th>\n",
       "    </tr>\n",
       "    <tr>\n",
       "      <th>position</th>\n",
       "      <th></th>\n",
       "      <th></th>\n",
       "    </tr>\n",
       "  </thead>\n",
       "  <tbody>\n",
       "    <tr>\n",
       "      <td>D</td>\n",
       "      <td>14899</td>\n",
       "      <td>655</td>\n",
       "    </tr>\n",
       "    <tr>\n",
       "      <td>F</td>\n",
       "      <td>30269</td>\n",
       "      <td>3127</td>\n",
       "    </tr>\n",
       "  </tbody>\n",
       "</table>\n",
       "</div>"
      ],
      "text/plain": [
       "          shoots  goals\n",
       "position               \n",
       "D          14899    655\n",
       "F          30269   3127"
      ]
     },
     "execution_count": 14,
     "metadata": {},
     "output_type": "execute_result"
    }
   ],
   "source": [
    "khl_2.head()"
   ]
  },
  {
   "cell_type": "code",
   "execution_count": 15,
   "metadata": {},
   "outputs": [
    {
     "data": {
      "text/plain": [
       "<matplotlib.axes._subplots.AxesSubplot at 0x1d807260608>"
      ]
     },
     "execution_count": 15,
     "metadata": {},
     "output_type": "execute_result"
    },
    {
     "data": {
      "image/png": "[encoded data removed]",
      "text/plain": [
       "<Figure size 720x720 with 1 Axes>"
      ]
     },
     "metadata": {},
     "output_type": "display_data"
    }
   ],
   "source": [
    "khl_2.plot(kind='pie', y='goals')"
   ]
  },
  {
   "cell_type": "markdown",
   "metadata": {},
   "source": [
    "График выполнен в вашем любимом виде и отображает разницу между забитыми голами нападающих и защитников =))))))))))"
   ]
  },
  {
   "cell_type": "markdown",
   "metadata": {},
   "source": [
    "## 3 График"
   ]
  },
  {
   "cell_type": "code",
   "execution_count": 16,
   "metadata": {},
   "outputs": [
    {
     "data": {
      "text/plain": [
       "<seaborn.axisgrid.JointGrid at 0x1d80702c708>"
      ]
     },
     "execution_count": 16,
     "metadata": {},
     "output_type": "execute_result"
    },
    {
     "data": {
      "image/png": "[encoded data removed]",
      "text/plain": [
       "<Figure size 432x432 with 3 Axes>"
      ]
     },
     "metadata": {
      "needs_background": "light"
     },
     "output_type": "display_data"
    }
   ],
   "source": [
    "sns.jointplot(x='shoots', y='goals', \n",
    "              data=khl_players, kind='scatter')"
   ]
  },
  {
   "cell_type": "markdown",
   "metadata": {},
   "source": [
    "Думаю по графику можно увидеть связь между количеством бросков и забитыми голами... я не могу прочитать этот график, но надюсь что у меня это получится по ходу обучения... когда я буду знать что такое корреляция дисперсия итд... пока что я могу прочитать только совсем простые графики типа предыдущего =))))))) этот график на вырост)))"
   ]
  },
  {
   "cell_type": "markdown",
   "metadata": {},
   "source": [
    "## 4 График"
   ]
  },
  {
   "cell_type": "code",
   "execution_count": 17,
   "metadata": {},
   "outputs": [
    {
     "data": {
      "image/png": "[encoded data removed]",
      "text/plain": [
       "<Figure size 720x720 with 1 Axes>"
      ]
     },
     "metadata": {
      "needs_background": "light"
     },
     "output_type": "display_data"
    }
   ],
   "source": [
    "ax = sns.boxplot(x='team', y='goals', data=khl_players)"
   ]
  },
  {
   "cell_type": "markdown",
   "metadata": {},
   "source": [
    "На этом графике я вижу:\n",
    "1. йокерит, ска, акбарс команды  в среднем с наиболее результативными игроками\n",
    "1. самый высокий средний показатель голов на игрока у йокерита ска и авангарда\n",
    "1. цска и автомобилист имеют в составе самых сильных снайперов лиги\n",
    "1. есть предположение что команды автомобилист сильно зависит от игры нескольких лучших игроков забивающих гораздо больше других\n",
    "1. команды сибирь йокерит трактор и лада не имеют ярко выраженых лидеров голеодоров\n",
    "1. чем длиннее верхний ус или больше верхних выбросов тем больше команда зависит от игры лидеров\n",
    "1. команда витязь лидер по малозабивающим игрокам"
   ]
  },
  {
   "cell_type": "markdown",
   "metadata": {},
   "source": [
    "## 5 График"
   ]
  },
  {
   "cell_type": "code",
   "execution_count": 18,
   "metadata": {},
   "outputs": [
    {
     "data": {
      "text/html": [
       "<div>\n",
       "<style scoped>\n",
       "    .dataframe tbody tr th:only-of-type {\n",
       "        vertical-align: middle;\n",
       "    }\n",
       "\n",
       "    .dataframe tbody tr th {\n",
       "        vertical-align: top;\n",
       "    }\n",
       "\n",
       "    .dataframe thead th {\n",
       "        text-align: right;\n",
       "    }\n",
       "</style>\n",
       "<table border=\"1\" class=\"dataframe\">\n",
       "  <thead>\n",
       "    <tr style=\"text-align: right;\">\n",
       "      <th></th>\n",
       "      <th>DATE</th>\n",
       "      <th>DAY</th>\n",
       "      <th>MONTH</th>\n",
       "      <th>YEAR</th>\n",
       "      <th>SEASON</th>\n",
       "      <th>HOMETEAM</th>\n",
       "      <th>AWAYTEAM</th>\n",
       "      <th>WINNER</th>\n",
       "      <th>HG</th>\n",
       "      <th>AG</th>\n",
       "      <th>...</th>\n",
       "      <th>HGOT</th>\n",
       "      <th>AGOT</th>\n",
       "      <th>HGSO</th>\n",
       "      <th>AGSO</th>\n",
       "      <th>TOTALOT</th>\n",
       "      <th>TOTALMAIN</th>\n",
       "      <th>TOTALFULL</th>\n",
       "      <th>TOTALHMAIN</th>\n",
       "      <th>TOTALAWAYMAIN</th>\n",
       "      <th>GAP3PERIODS</th>\n",
       "    </tr>\n",
       "  </thead>\n",
       "  <tbody>\n",
       "    <tr>\n",
       "      <td>0</td>\n",
       "      <td>12/9/2019</td>\n",
       "      <td>9</td>\n",
       "      <td>12</td>\n",
       "      <td>2019</td>\n",
       "      <td>1920</td>\n",
       "      <td>Avangard Omsk</td>\n",
       "      <td>Barys Nur-Sultan</td>\n",
       "      <td>Barys Nur-Sultan</td>\n",
       "      <td>2</td>\n",
       "      <td>3</td>\n",
       "      <td>...</td>\n",
       "      <td>NaN</td>\n",
       "      <td>NaN</td>\n",
       "      <td>NaN</td>\n",
       "      <td>NaN</td>\n",
       "      <td>NaN</td>\n",
       "      <td>5</td>\n",
       "      <td>5</td>\n",
       "      <td>2</td>\n",
       "      <td>3</td>\n",
       "      <td>1</td>\n",
       "    </tr>\n",
       "    <tr>\n",
       "      <td>1</td>\n",
       "      <td>12/9/2019</td>\n",
       "      <td>9</td>\n",
       "      <td>12</td>\n",
       "      <td>2019</td>\n",
       "      <td>1920</td>\n",
       "      <td>Dyn. Moscow</td>\n",
       "      <td>SKA St. Petersburg</td>\n",
       "      <td>SKA St. Petersburg</td>\n",
       "      <td>2</td>\n",
       "      <td>3</td>\n",
       "      <td>...</td>\n",
       "      <td>0.0</td>\n",
       "      <td>1.0</td>\n",
       "      <td>NaN</td>\n",
       "      <td>NaN</td>\n",
       "      <td>1.0</td>\n",
       "      <td>4</td>\n",
       "      <td>5</td>\n",
       "      <td>2</td>\n",
       "      <td>2</td>\n",
       "      <td>0</td>\n",
       "    </tr>\n",
       "    <tr>\n",
       "      <td>2</td>\n",
       "      <td>12/9/2019</td>\n",
       "      <td>9</td>\n",
       "      <td>12</td>\n",
       "      <td>2019</td>\n",
       "      <td>1920</td>\n",
       "      <td>Jokerit</td>\n",
       "      <td>Sp. Moscow</td>\n",
       "      <td>Jokerit</td>\n",
       "      <td>3</td>\n",
       "      <td>2</td>\n",
       "      <td>...</td>\n",
       "      <td>NaN</td>\n",
       "      <td>NaN</td>\n",
       "      <td>NaN</td>\n",
       "      <td>NaN</td>\n",
       "      <td>NaN</td>\n",
       "      <td>5</td>\n",
       "      <td>5</td>\n",
       "      <td>3</td>\n",
       "      <td>2</td>\n",
       "      <td>1</td>\n",
       "    </tr>\n",
       "    <tr>\n",
       "      <td>3</td>\n",
       "      <td>12/9/2019</td>\n",
       "      <td>9</td>\n",
       "      <td>12</td>\n",
       "      <td>2019</td>\n",
       "      <td>1920</td>\n",
       "      <td>Podolsk</td>\n",
       "      <td>Nizhny Novgorod</td>\n",
       "      <td>Podolsk</td>\n",
       "      <td>3</td>\n",
       "      <td>2</td>\n",
       "      <td>...</td>\n",
       "      <td>NaN</td>\n",
       "      <td>NaN</td>\n",
       "      <td>NaN</td>\n",
       "      <td>NaN</td>\n",
       "      <td>NaN</td>\n",
       "      <td>5</td>\n",
       "      <td>5</td>\n",
       "      <td>3</td>\n",
       "      <td>2</td>\n",
       "      <td>1</td>\n",
       "    </tr>\n",
       "    <tr>\n",
       "      <td>4</td>\n",
       "      <td>12/9/2019</td>\n",
       "      <td>9</td>\n",
       "      <td>12</td>\n",
       "      <td>2019</td>\n",
       "      <td>1920</td>\n",
       "      <td>Metallurg Magnitogorsk</td>\n",
       "      <td>Dinamo Riga</td>\n",
       "      <td>Metallurg Magnitogorsk</td>\n",
       "      <td>5</td>\n",
       "      <td>1</td>\n",
       "      <td>...</td>\n",
       "      <td>NaN</td>\n",
       "      <td>NaN</td>\n",
       "      <td>NaN</td>\n",
       "      <td>NaN</td>\n",
       "      <td>NaN</td>\n",
       "      <td>6</td>\n",
       "      <td>6</td>\n",
       "      <td>5</td>\n",
       "      <td>1</td>\n",
       "      <td>4</td>\n",
       "    </tr>\n",
       "  </tbody>\n",
       "</table>\n",
       "<p>5 rows × 30 columns</p>\n",
       "</div>"
      ],
      "text/plain": [
       "        DATE  DAY  MONTH  YEAR  SEASON                HOMETEAM  \\\n",
       "0  12/9/2019    9     12  2019    1920           Avangard Omsk   \n",
       "1  12/9/2019    9     12  2019    1920             Dyn. Moscow   \n",
       "2  12/9/2019    9     12  2019    1920                 Jokerit   \n",
       "3  12/9/2019    9     12  2019    1920                 Podolsk   \n",
       "4  12/9/2019    9     12  2019    1920  Metallurg Magnitogorsk   \n",
       "\n",
       "             AWAYTEAM                  WINNER  HG  AG  ... HGOT  AGOT  HGSO  \\\n",
       "0    Barys Nur-Sultan        Barys Nur-Sultan   2   3  ...  NaN   NaN   NaN   \n",
       "1  SKA St. Petersburg      SKA St. Petersburg   2   3  ...  0.0   1.0   NaN   \n",
       "2          Sp. Moscow                 Jokerit   3   2  ...  NaN   NaN   NaN   \n",
       "3     Nizhny Novgorod                 Podolsk   3   2  ...  NaN   NaN   NaN   \n",
       "4         Dinamo Riga  Metallurg Magnitogorsk   5   1  ...  NaN   NaN   NaN   \n",
       "\n",
       "   AGSO  TOTALOT  TOTALMAIN  TOTALFULL  TOTALHMAIN  TOTALAWAYMAIN  GAP3PERIODS  \n",
       "0   NaN      NaN          5          5           2              3            1  \n",
       "1   NaN      1.0          4          5           2              2            0  \n",
       "2   NaN      NaN          5          5           3              2            1  \n",
       "3   NaN      NaN          5          5           3              2            1  \n",
       "4   NaN      NaN          6          6           5              1            4  \n",
       "\n",
       "[5 rows x 30 columns]"
      ]
     },
     "execution_count": 18,
     "metadata": {},
     "output_type": "execute_result"
    }
   ],
   "source": [
    "khl.head()"
   ]
  },
  {
   "cell_type": "code",
   "execution_count": 19,
   "metadata": {},
   "outputs": [],
   "source": [
    "khl_5 = khl.filter(items = ['YEAR', 'TOTAL1', 'TOTAL2', 'TOTAL3' ]).groupby('YEAR').sum()"
   ]
  },
  {
   "cell_type": "code",
   "execution_count": 21,
   "metadata": {},
   "outputs": [
    {
     "data": {
      "text/html": [
       "<div>\n",
       "<style scoped>\n",
       "    .dataframe tbody tr th:only-of-type {\n",
       "        vertical-align: middle;\n",
       "    }\n",
       "\n",
       "    .dataframe tbody tr th {\n",
       "        vertical-align: top;\n",
       "    }\n",
       "\n",
       "    .dataframe thead th {\n",
       "        text-align: right;\n",
       "    }\n",
       "</style>\n",
       "<table border=\"1\" class=\"dataframe\">\n",
       "  <thead>\n",
       "    <tr style=\"text-align: right;\">\n",
       "      <th></th>\n",
       "      <th>TOTAL1</th>\n",
       "      <th>TOTAL2</th>\n",
       "      <th>TOTAL3</th>\n",
       "    </tr>\n",
       "    <tr>\n",
       "      <th>YEAR</th>\n",
       "      <th></th>\n",
       "      <th></th>\n",
       "      <th></th>\n",
       "    </tr>\n",
       "  </thead>\n",
       "  <tbody>\n",
       "    <tr>\n",
       "      <td>2008</td>\n",
       "      <td>684</td>\n",
       "      <td>821</td>\n",
       "      <td>805</td>\n",
       "    </tr>\n",
       "    <tr>\n",
       "      <td>2009</td>\n",
       "      <td>1123</td>\n",
       "      <td>1325</td>\n",
       "      <td>1240</td>\n",
       "    </tr>\n",
       "    <tr>\n",
       "      <td>2010</td>\n",
       "      <td>1093</td>\n",
       "      <td>1303</td>\n",
       "      <td>1173</td>\n",
       "    </tr>\n",
       "    <tr>\n",
       "      <td>2011</td>\n",
       "      <td>1005</td>\n",
       "      <td>1217</td>\n",
       "      <td>1185</td>\n",
       "    </tr>\n",
       "    <tr>\n",
       "      <td>2012</td>\n",
       "      <td>1167</td>\n",
       "      <td>1409</td>\n",
       "      <td>1276</td>\n",
       "    </tr>\n",
       "  </tbody>\n",
       "</table>\n",
       "</div>"
      ],
      "text/plain": [
       "      TOTAL1  TOTAL2  TOTAL3\n",
       "YEAR                        \n",
       "2008     684     821     805\n",
       "2009    1123    1325    1240\n",
       "2010    1093    1303    1173\n",
       "2011    1005    1217    1185\n",
       "2012    1167    1409    1276"
      ]
     },
     "execution_count": 21,
     "metadata": {},
     "output_type": "execute_result"
    }
   ],
   "source": [
    "khl_5.head()"
   ]
  },
  {
   "cell_type": "code",
   "execution_count": 22,
   "metadata": {},
   "outputs": [
    {
     "data": {
      "text/plain": [
       "<matplotlib.axes._subplots.AxesSubplot at 0x1d8079c6988>"
      ]
     },
     "execution_count": 22,
     "metadata": {},
     "output_type": "execute_result"
    },
    {
     "data": {
      "image/png": "[encoded data removed]",
      "text/plain": [
       "<Figure size 720x720 with 1 Axes>"
      ]
     },
     "metadata": {
      "needs_background": "light"
     },
     "output_type": "display_data"
    }
   ],
   "source": [
    "khl_5.plot()"
   ]
  },
  {
   "cell_type": "markdown",
   "metadata": {},
   "source": [
    "График динамики зрелищности периодов по сезонам. Из графика виден резкий провал в сезон 18-19. Видно что всегда 2 период самый зрелищный а первый самый не зрелищный так что лучше опоздать на игру но не опаздывать на второй период.\n",
    "\n",
    "Реально полезный вывод)))) обычно я делаю наоборот и пропускаю самое интересное))))"
   ]
  }
 ],
 "metadata": {
  "kernelspec": {
   "display_name": "Python 3",
   "language": "python",
   "name": "python3"
  },
  "language_info": {
   "codemirror_mode": {
    "name": "ipython",
    "version": 3
   },
   "file_extension": ".py",
   "mimetype": "text/x-python",
   "name": "python",
   "nbconvert_exporter": "python",
   "pygments_lexer": "ipython3",
   "version": "3.7.4"
  }
 },
 "nbformat": 4,
 "nbformat_minor": 2
}
