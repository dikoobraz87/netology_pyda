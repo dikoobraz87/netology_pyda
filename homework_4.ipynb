{
 "cells": [
  {
   "cell_type": "markdown",
   "metadata": {},
   "source": [
    "## Задание 1"
   ]
  },
  {
   "cell_type": "markdown",
   "metadata": {},
   "source": [
    "Дан список вида:"
   ]
  },
  {
   "cell_type": "code",
   "execution_count": null,
   "metadata": {},
   "outputs": [],
   "source": [
    "data = [\n",
    "    [13, 25, 23, 34],\n",
    "    [45, 32, 44, 47],\n",
    "    [12, 33, 23, 95],\n",
    "    [13, 53, 34, 35]\n",
    "]"
   ]
  },
  {
   "cell_type": "markdown",
   "metadata": {},
   "source": [
    "Напишите функцию, которая возвращает сумму элементов на диагонали. Т. е. 13+32+23+35.  \n",
    "Список может быть любой длины, но всегда является \"квадратным\" (количество элементов во вложенных списках равно их количеству)."
   ]
  },
  {
   "cell_type": "code",
   "execution_count": null,
   "metadata": {},
   "outputs": [],
   "source": [
    "def sum_diagonal_func(any_list):\n",
    "    diagonal_list = []\n",
    "    i = 0 - 1\n",
    "    for number_list in any_list:\n",
    "        i += 1\n",
    "        diagonal = number_list[i]\n",
    "        diagonal_list += [diagonal]\n",
    "        sum_diagonal = sum(diagonal_list)\n",
    "    return sum_diagonal"
   ]
  },
  {
   "cell_type": "code",
   "execution_count": null,
   "metadata": {},
   "outputs": [],
   "source": [
    "sum_diagonal_func(data)"
   ]
  },
  {
   "cell_type": "markdown",
   "metadata": {},
   "source": [
    "## Задание 2"
   ]
  },
  {
   "cell_type": "markdown",
   "metadata": {},
   "source": [
    "Напишите функцию, возвращающую сумму первых n чисел Фибоначчи (для этого вам может понадобится ознакомиться с рекурсией)."
   ]
  },
  {
   "cell_type": "code",
   "execution_count": null,
   "metadata": {},
   "outputs": [],
   "source": [
    "def sum_fib(x):\n",
    "    fibonacci_numbers = [0, 1]\n",
    "    for i in range(2, x):\n",
    "        fibonacci_numbers.append(fibonacci_numbers[i-1]+fibonacci_numbers[i-2])\n",
    "    return sum(fibonacci_numbers)"
   ]
  },
  {
   "cell_type": "code",
   "execution_count": null,
   "metadata": {},
   "outputs": [],
   "source": [
    "sum_fib(int(input('Введите количество чисел Фибоначчи которые нужно просуммировать: ')))"
   ]
  },
  {
   "cell_type": "markdown",
   "metadata": {},
   "source": [
    "## Задание 3\n"
   ]
  },
  {
   "cell_type": "markdown",
   "metadata": {},
   "source": [
    "Напишите функцию, преобразующую произвольный список вида ['2018-01-01', 'yandex', 'cpc', 100] (он может быть любой длины) в словарь {'2018-01-01': {'yandex': {'cpc': 100}}}"
   ]
  },
  {
   "cell_type": "code",
   "execution_count": null,
   "metadata": {},
   "outputs": [],
   "source": [
    "def get_dict(any_list):\n",
    "    if len(any_list) > 2:\n",
    "        return {any_list[0]: get_dict(any_list[1:])}\n",
    "    else:\n",
    "        return {any_list[0]: any_list[1]}"
   ]
  },
  {
   "cell_type": "code",
   "execution_count": null,
   "metadata": {},
   "outputs": [],
   "source": [
    "get_dict(['2018-01-01', 'yandex', 'cpc', 'zzzzz', 100])"
   ]
  },
  {
   "cell_type": "markdown",
   "metadata": {},
   "source": [
    "## Задание 1 из дополнительных к 1 д/з\n",
    "https://ru.wikipedia.org/wiki/Fizz_buzz Начинающий произносит число “1”, и каждый следующий игрок прибавляет к предыдущему значению единицу. Когда число делится на три оно заменяется на fizz, если число делится на пять, то произносится buzz. Числа, делящиеся на три и пять одновременно заменяются на fizz buzz. Сделавший ошибку игрок исключается из игры.\n",
    "\n",
    "Типичная партия в fizz buzz выглядит так: 1, 2, Fizz, 4, Buzz, Fizz, 7, 8, Fizz, Buzz, 11, Fizz, 13, 14, Fizz Buzz, 16, 17, Fizz, 19, Buzz, Fizz, 22, 23, Fizz, Buzz, 26, Fizz, 28, 29, Fizz Buzz, 31, 32, Fizz, 34, Buzz, Fizz, …\n",
    "\n",
    "Напишите код, выводящий на экран первые n элементов этой игры (естественно, корректные)."
   ]
  },
  {
   "cell_type": "code",
   "execution_count": null,
   "metadata": {},
   "outputs": [],
   "source": [
    "n = int(input('Введите количество чисел: '))\n",
    "number_list = list(range(1, n+1))\n",
    "f_b_list = []\n",
    "for number in number_list:\n",
    "    if number % 3 == 0 and number % 5 == 0:\n",
    "        f_b_list.append('Fizz Buzz')\n",
    "    elif number % 3 == 0:\n",
    "        f_b_list.append('Fizz')\n",
    "    elif number % 5 == 0:\n",
    "        f_b_list.append('Buzz')\n",
    "    else:\n",
    "        f_b_list.append(number)\n",
    "print(f_b_list)"
   ]
  },
  {
   "cell_type": "markdown",
   "metadata": {},
   "source": [
    "## Задание 4"
   ]
  },
  {
   "cell_type": "markdown",
   "metadata": {},
   "source": [
    "Вы работаете секретарем и вам постоянно приходят различные документы. Вы должны быть очень внимательны, чтобы не потерять ни один документ. Каталог документов хранится в следующем виде:"
   ]
  },
  {
   "cell_type": "code",
   "execution_count": null,
   "metadata": {},
   "outputs": [],
   "source": [
    "documents = [\n",
    "    {'type': 'passport', 'number': '2207 876234', 'name': 'Василий Гупкин'},\n",
    "    {'type': 'invoice', 'number': '11-2', 'name': 'Геннадий Покемонов'},\n",
    "    {'type': 'insurance', 'number': '10006', 'name': 'Аристарх Павлов'}\n",
    "]"
   ]
  },
  {
   "cell_type": "markdown",
   "metadata": {},
   "source": [
    "Перечень полок, на которых находятся документы хранится в следующем виде:"
   ]
  },
  {
   "cell_type": "code",
   "execution_count": null,
   "metadata": {},
   "outputs": [],
   "source": [
    "directories = {\n",
    "    '1': ['2207 876234', '11-2', '5455 028765'],\n",
    "    '2': ['10006', '5400 028765', '5455 002299'],\n",
    "    '3': []\n",
    "}"
   ]
  },
  {
   "cell_type": "code",
   "execution_count": null,
   "metadata": {},
   "outputs": [],
   "source": [
    "def get_people(num_doc):\n",
    "    for doc_dict in documents:\n",
    "        if doc_dict['number'] == num_doc:\n",
    "            return doc_dict['name']\n",
    "    return 'Такого документа нет в базе'"
   ]
  },
  {
   "cell_type": "code",
   "execution_count": null,
   "metadata": {},
   "outputs": [],
   "source": [
    "def get_shelf(num_doc):\n",
    "    for shelf, number in directories.items():\n",
    "        if num_doc in number:\n",
    "            return shelf\n",
    "    return 'Такого документа нет в базе'"
   ]
  },
  {
   "cell_type": "code",
   "execution_count": null,
   "metadata": {},
   "outputs": [],
   "source": [
    "def get_list():\n",
    "    for document in documents:\n",
    "        document_list = ' '.join(document.values())\n",
    "        print(document_list)"
   ]
  },
  {
   "cell_type": "code",
   "execution_count": null,
   "metadata": {},
   "outputs": [],
   "source": [
    "def add_shelf(num_shelf):\n",
    "    if num_shelf not in directories.keys():\n",
    "        directories[num_shelf] = []    \n",
    "        return directories"
   ]
  },
  {
   "cell_type": "code",
   "execution_count": null,
   "metadata": {},
   "outputs": [],
   "source": [
    "def del_doc_directories(num_doc):\n",
    "    \"\"\"\n",
    "    Удаление документа с полки в directories\n",
    "    \"\"\"\n",
    "    for numbers in directories.values():\n",
    "        if num_doc in numbers:\n",
    "            numbers.remove(num_doc)\n",
    "            return  directories\n",
    "    return 'Такого документа нет в базе'         "
   ]
  },
  {
   "cell_type": "code",
   "execution_count": null,
   "metadata": {},
   "outputs": [],
   "source": [
    "def del_doc(num_doc):\n",
    "    for docs in documents:\n",
    "        if docs['number'] == num_doc:\n",
    "            documents.remove(docs)\n",
    "            return  documents, del_doc_directories(num_doc)\n",
    "    return 'Такого документа нет в базе'          "
   ]
  },
  {
   "cell_type": "code",
   "execution_count": null,
   "metadata": {},
   "outputs": [],
   "source": [
    "def check_num_doc(num_doc):\n",
    "    \"\"\"\n",
    "    Проверка наличия введенного номера на полках directories\n",
    "    \"\"\"\n",
    "    for numbers in directories.values():\n",
    "        if num_doc in numbers:\n",
    "            return True\n",
    "    return False"
   ]
  },
  {
   "cell_type": "code",
   "execution_count": null,
   "metadata": {},
   "outputs": [],
   "source": [
    "def move_doc(num_doc):\n",
    "    if check_num_doc(num_doc):\n",
    "        shelf_number = input('Введите номер полки для перемещения: ')\n",
    "        if shelf_number in directories.keys():\n",
    "            del_doc_directories(num_doc)\n",
    "            directories[shelf_number].append(num_doc)\n",
    "            return directories   \n",
    "        return 'Такой полки не существует'\n",
    "    return 'Такого документа нет в базе'"
   ]
  },
  {
   "cell_type": "code",
   "execution_count": null,
   "metadata": {},
   "outputs": [],
   "source": [
    "def check_num_doc2(num_doc):\n",
    "    \"\"\"\n",
    "    Проверка отсутствия введенного номера в каталоге documents\n",
    "    \"\"\"\n",
    "    for docs in documents:\n",
    "        if num_doc in docs.values():\n",
    "            return False\n",
    "    return True"
   ]
  },
  {
   "cell_type": "code",
   "execution_count": null,
   "metadata": {},
   "outputs": [],
   "source": [
    "def add_doc(num_doc):\n",
    "    if check_num_doc2(num_doc):\n",
    "        type_doc = input('Введите тип документа: ')\n",
    "        name = input('Введите имя владельца: ')\n",
    "        new_doc = {'type': type_doc, 'number': num_doc, 'name': name}\n",
    "        documents.append(new_doc)\n",
    "        if check_num_doc(num_doc) == False:\n",
    "            shelf_number = input('Введите номер полки: ')\n",
    "            if shelf_number in directories.keys():\n",
    "                directories[shelf_number].append(num_doc)\n",
    "                return documents, directories   \n",
    "            return documents, add_shelf(shelf_number), directories[shelf_number].append(num_doc)\n",
    "        return 'Такой документ уже есть в каталоге', directories, documents\n",
    "    return 'Такой докумет уже есть в каталоге'"
   ]
  },
  {
   "cell_type": "code",
   "execution_count": null,
   "metadata": {},
   "outputs": [],
   "source": [
    "def main(command):\n",
    "    if command == 'p':\n",
    "        return get_people(input('Введите номер документа: '))\n",
    "    elif command == 's':\n",
    "        return get_shelf(input('Введите номер документа: '))\n",
    "    elif command == 'l':\n",
    "        return get_list()\n",
    "    elif command == 'as':\n",
    "        return add_shelf(input('Введите номер полки для добавления: '))\n",
    "    elif command == 'd':\n",
    "        return del_doc(input('Введите номер документа для удаления: '))\n",
    "    elif command == 'm':\n",
    "        return move_doc(input('Введите номер документа: '))\n",
    "    elif command == 'a':\n",
    "        return add_doc(input('Введите номер документа: '))\n",
    "\n",
    "main(input('Введите команду: '))"
   ]
  },
  {
   "cell_type": "markdown",
   "metadata": {},
   "source": [
    "Необходимо реализовать пользовательские команды (внимание! это не название функций, которые должны быть выразительными, а команды, которые вводит пользователь, чтобы получить необходимый результат):\n",
    "  \n",
    "- p – people – команда, которая спросит номер документа и выведет имя человека, которому он принадлежит;  \n",
    "- s – shelf – команда, которая спросит номер документа и выведет номер полки, на которой он находится  \n",
    "Правильно обработайте ситуацию, когда пользователь будет вводить несуществующий документ.\n",
    "- l – list – команда, которая выведет список всех документов в формате   \n",
    "**passport \"2207 876234\" \"Василий Гупкин\"**  \n",
    "- as – add shelf – команда, которая спросит номер новой полки и добавит ее в перечень\n",
    "- d – delete – команда, которая спросит номер документа и удалит его из каталога и из перечня полок. Предусмотрите сценарий, когда пользователь вводит несуществующий документ;  \n",
    "- m – move – команда, которая спросит номер документа и целевую полку и переместит его с текущей полки на целевую. Корректно обработайте кейсы, когда пользователь пытается переместить несуществующий документ или переместить документ на несуществующую полку;  \n",
    "- a – add – команда, которая добавит новый документ в каталог и в перечень полок, спросив его номер, тип, имя владельца и номер полки, на котором он будет храниться."
   ]
  }
 ],
 "metadata": {
  "kernelspec": {
   "display_name": "Python 3",
   "language": "python",
   "name": "python3"
  },
  "language_info": {
   "codemirror_mode": {
    "name": "ipython",
    "version": 3
   },
   "file_extension": ".py",
   "mimetype": "text/x-python",
   "name": "python",
   "nbconvert_exporter": "python",
   "pygments_lexer": "ipython3",
   "version": "3.7.4"
  }
 },
 "nbformat": 4,
 "nbformat_minor": 2
}
